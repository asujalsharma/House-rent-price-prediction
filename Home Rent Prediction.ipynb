{
 "cells": [
  {
   "cell_type": "markdown",
   "id": "f9935dd1",
   "metadata": {},
   "source": [
    "# House Rent Prediction"
   ]
  },
  {
   "cell_type": "code",
   "execution_count": 220,
   "id": "31ec7ed7",
   "metadata": {},
   "outputs": [],
   "source": [
    "import pandas as pd\n",
    "import numpy as np\n",
    "import matplotlib.pyplot as plt\n",
    "from sklearn.model_selection import train_test_split\n",
    "from sklearn.linear_model import LinearRegression\n",
    "from sklearn.metrics import mean_squared_error, r2_score\n",
    "import seaborn as sns\n",
    "import warnings\n",
    "warnings.filterwarnings('ignore')"
   ]
  },
  {
   "cell_type": "code",
   "execution_count": 221,
   "id": "f0de36a2",
   "metadata": {},
   "outputs": [],
   "source": [
    "df = pd.read_csv(r\"C:\\Users\\hs081\\Downloads\\House_Rent_Dataset.csv\")"
   ]
  },
  {
   "cell_type": "code",
   "execution_count": 222,
   "id": "71821aed",
   "metadata": {},
   "outputs": [
    {
     "data": {
      "text/html": [
       "<div>\n",
       "<style scoped>\n",
       "    .dataframe tbody tr th:only-of-type {\n",
       "        vertical-align: middle;\n",
       "    }\n",
       "\n",
       "    .dataframe tbody tr th {\n",
       "        vertical-align: top;\n",
       "    }\n",
       "\n",
       "    .dataframe thead th {\n",
       "        text-align: right;\n",
       "    }\n",
       "</style>\n",
       "<table border=\"1\" class=\"dataframe\">\n",
       "  <thead>\n",
       "    <tr style=\"text-align: right;\">\n",
       "      <th></th>\n",
       "      <th>Posted On</th>\n",
       "      <th>BHK</th>\n",
       "      <th>Rent</th>\n",
       "      <th>Size</th>\n",
       "      <th>Floor</th>\n",
       "      <th>Area Type</th>\n",
       "      <th>Area Locality</th>\n",
       "      <th>City</th>\n",
       "      <th>Furnishing Status</th>\n",
       "      <th>Tenant Preferred</th>\n",
       "      <th>Bathroom</th>\n",
       "      <th>Point of Contact</th>\n",
       "    </tr>\n",
       "  </thead>\n",
       "  <tbody>\n",
       "    <tr>\n",
       "      <th>0</th>\n",
       "      <td>2022-05-18</td>\n",
       "      <td>2</td>\n",
       "      <td>10000</td>\n",
       "      <td>1100</td>\n",
       "      <td>Ground out of 2</td>\n",
       "      <td>Super Area</td>\n",
       "      <td>Bandel</td>\n",
       "      <td>Kolkata</td>\n",
       "      <td>Unfurnished</td>\n",
       "      <td>Bachelors/Family</td>\n",
       "      <td>2</td>\n",
       "      <td>Contact Owner</td>\n",
       "    </tr>\n",
       "    <tr>\n",
       "      <th>1</th>\n",
       "      <td>2022-05-13</td>\n",
       "      <td>2</td>\n",
       "      <td>20000</td>\n",
       "      <td>800</td>\n",
       "      <td>1 out of 3</td>\n",
       "      <td>Super Area</td>\n",
       "      <td>Phool Bagan, Kankurgachi</td>\n",
       "      <td>Kolkata</td>\n",
       "      <td>Semi-Furnished</td>\n",
       "      <td>Bachelors/Family</td>\n",
       "      <td>1</td>\n",
       "      <td>Contact Owner</td>\n",
       "    </tr>\n",
       "    <tr>\n",
       "      <th>2</th>\n",
       "      <td>2022-05-16</td>\n",
       "      <td>2</td>\n",
       "      <td>17000</td>\n",
       "      <td>1000</td>\n",
       "      <td>1 out of 3</td>\n",
       "      <td>Super Area</td>\n",
       "      <td>Salt Lake City Sector 2</td>\n",
       "      <td>Kolkata</td>\n",
       "      <td>Semi-Furnished</td>\n",
       "      <td>Bachelors/Family</td>\n",
       "      <td>1</td>\n",
       "      <td>Contact Owner</td>\n",
       "    </tr>\n",
       "    <tr>\n",
       "      <th>3</th>\n",
       "      <td>2022-07-04</td>\n",
       "      <td>2</td>\n",
       "      <td>10000</td>\n",
       "      <td>800</td>\n",
       "      <td>1 out of 2</td>\n",
       "      <td>Super Area</td>\n",
       "      <td>Dumdum Park</td>\n",
       "      <td>Kolkata</td>\n",
       "      <td>Unfurnished</td>\n",
       "      <td>Bachelors/Family</td>\n",
       "      <td>1</td>\n",
       "      <td>Contact Owner</td>\n",
       "    </tr>\n",
       "    <tr>\n",
       "      <th>4</th>\n",
       "      <td>2022-05-09</td>\n",
       "      <td>2</td>\n",
       "      <td>7500</td>\n",
       "      <td>850</td>\n",
       "      <td>1 out of 2</td>\n",
       "      <td>Carpet Area</td>\n",
       "      <td>South Dum Dum</td>\n",
       "      <td>Kolkata</td>\n",
       "      <td>Unfurnished</td>\n",
       "      <td>Bachelors</td>\n",
       "      <td>1</td>\n",
       "      <td>Contact Owner</td>\n",
       "    </tr>\n",
       "  </tbody>\n",
       "</table>\n",
       "</div>"
      ],
      "text/plain": [
       "    Posted On  BHK   Rent  Size            Floor    Area Type  \\\n",
       "0  2022-05-18    2  10000  1100  Ground out of 2   Super Area   \n",
       "1  2022-05-13    2  20000   800       1 out of 3   Super Area   \n",
       "2  2022-05-16    2  17000  1000       1 out of 3   Super Area   \n",
       "3  2022-07-04    2  10000   800       1 out of 2   Super Area   \n",
       "4  2022-05-09    2   7500   850       1 out of 2  Carpet Area   \n",
       "\n",
       "              Area Locality     City Furnishing Status  Tenant Preferred  \\\n",
       "0                    Bandel  Kolkata       Unfurnished  Bachelors/Family   \n",
       "1  Phool Bagan, Kankurgachi  Kolkata    Semi-Furnished  Bachelors/Family   \n",
       "2   Salt Lake City Sector 2  Kolkata    Semi-Furnished  Bachelors/Family   \n",
       "3               Dumdum Park  Kolkata       Unfurnished  Bachelors/Family   \n",
       "4             South Dum Dum  Kolkata       Unfurnished         Bachelors   \n",
       "\n",
       "   Bathroom Point of Contact  \n",
       "0         2    Contact Owner  \n",
       "1         1    Contact Owner  \n",
       "2         1    Contact Owner  \n",
       "3         1    Contact Owner  \n",
       "4         1    Contact Owner  "
      ]
     },
     "execution_count": 222,
     "metadata": {},
     "output_type": "execute_result"
    }
   ],
   "source": [
    "df.head()"
   ]
  },
  {
   "cell_type": "code",
   "execution_count": 223,
   "id": "97483d86",
   "metadata": {},
   "outputs": [
    {
     "name": "stdout",
     "output_type": "stream",
     "text": [
      "<class 'pandas.core.frame.DataFrame'>\n",
      "RangeIndex: 4746 entries, 0 to 4745\n",
      "Data columns (total 12 columns):\n",
      " #   Column             Non-Null Count  Dtype \n",
      "---  ------             --------------  ----- \n",
      " 0   Posted On          4746 non-null   object\n",
      " 1   BHK                4746 non-null   int64 \n",
      " 2   Rent               4746 non-null   int64 \n",
      " 3   Size               4746 non-null   int64 \n",
      " 4   Floor              4746 non-null   object\n",
      " 5   Area Type          4746 non-null   object\n",
      " 6   Area Locality      4746 non-null   object\n",
      " 7   City               4746 non-null   object\n",
      " 8   Furnishing Status  4746 non-null   object\n",
      " 9   Tenant Preferred   4746 non-null   object\n",
      " 10  Bathroom           4746 non-null   int64 \n",
      " 11  Point of Contact   4746 non-null   object\n",
      "dtypes: int64(4), object(8)\n",
      "memory usage: 445.1+ KB\n"
     ]
    }
   ],
   "source": [
    "df.info()"
   ]
  },
  {
   "cell_type": "code",
   "execution_count": 224,
   "id": "7a718bfc",
   "metadata": {},
   "outputs": [
    {
     "data": {
      "text/plain": [
       "Posted On            0\n",
       "BHK                  0\n",
       "Rent                 0\n",
       "Size                 0\n",
       "Floor                0\n",
       "Area Type            0\n",
       "Area Locality        0\n",
       "City                 0\n",
       "Furnishing Status    0\n",
       "Tenant Preferred     0\n",
       "Bathroom             0\n",
       "Point of Contact     0\n",
       "dtype: int64"
      ]
     },
     "execution_count": 224,
     "metadata": {},
     "output_type": "execute_result"
    }
   ],
   "source": [
    "df.isnull().sum()"
   ]
  },
  {
   "cell_type": "code",
   "execution_count": 225,
   "id": "69d7d1fe",
   "metadata": {},
   "outputs": [
    {
     "data": {
      "text/html": [
       "<div>\n",
       "<style scoped>\n",
       "    .dataframe tbody tr th:only-of-type {\n",
       "        vertical-align: middle;\n",
       "    }\n",
       "\n",
       "    .dataframe tbody tr th {\n",
       "        vertical-align: top;\n",
       "    }\n",
       "\n",
       "    .dataframe thead th {\n",
       "        text-align: right;\n",
       "    }\n",
       "</style>\n",
       "<table border=\"1\" class=\"dataframe\">\n",
       "  <thead>\n",
       "    <tr style=\"text-align: right;\">\n",
       "      <th></th>\n",
       "      <th>Area Type</th>\n",
       "      <th>City</th>\n",
       "      <th>Furnishing Status</th>\n",
       "      <th>Tenant Preferred</th>\n",
       "      <th>Point of Contact</th>\n",
       "    </tr>\n",
       "  </thead>\n",
       "  <tbody>\n",
       "    <tr>\n",
       "      <th>0</th>\n",
       "      <td>Super Area</td>\n",
       "      <td>Kolkata</td>\n",
       "      <td>Unfurnished</td>\n",
       "      <td>Bachelors/Family</td>\n",
       "      <td>Contact Owner</td>\n",
       "    </tr>\n",
       "    <tr>\n",
       "      <th>1</th>\n",
       "      <td>Super Area</td>\n",
       "      <td>Kolkata</td>\n",
       "      <td>Semi-Furnished</td>\n",
       "      <td>Bachelors/Family</td>\n",
       "      <td>Contact Owner</td>\n",
       "    </tr>\n",
       "    <tr>\n",
       "      <th>2</th>\n",
       "      <td>Super Area</td>\n",
       "      <td>Kolkata</td>\n",
       "      <td>Semi-Furnished</td>\n",
       "      <td>Bachelors/Family</td>\n",
       "      <td>Contact Owner</td>\n",
       "    </tr>\n",
       "    <tr>\n",
       "      <th>3</th>\n",
       "      <td>Super Area</td>\n",
       "      <td>Kolkata</td>\n",
       "      <td>Unfurnished</td>\n",
       "      <td>Bachelors/Family</td>\n",
       "      <td>Contact Owner</td>\n",
       "    </tr>\n",
       "    <tr>\n",
       "      <th>4</th>\n",
       "      <td>Carpet Area</td>\n",
       "      <td>Kolkata</td>\n",
       "      <td>Unfurnished</td>\n",
       "      <td>Bachelors</td>\n",
       "      <td>Contact Owner</td>\n",
       "    </tr>\n",
       "    <tr>\n",
       "      <th>...</th>\n",
       "      <td>...</td>\n",
       "      <td>...</td>\n",
       "      <td>...</td>\n",
       "      <td>...</td>\n",
       "      <td>...</td>\n",
       "    </tr>\n",
       "    <tr>\n",
       "      <th>4741</th>\n",
       "      <td>Carpet Area</td>\n",
       "      <td>Hyderabad</td>\n",
       "      <td>Semi-Furnished</td>\n",
       "      <td>Bachelors/Family</td>\n",
       "      <td>Contact Owner</td>\n",
       "    </tr>\n",
       "    <tr>\n",
       "      <th>4742</th>\n",
       "      <td>Super Area</td>\n",
       "      <td>Hyderabad</td>\n",
       "      <td>Semi-Furnished</td>\n",
       "      <td>Bachelors/Family</td>\n",
       "      <td>Contact Owner</td>\n",
       "    </tr>\n",
       "    <tr>\n",
       "      <th>4743</th>\n",
       "      <td>Carpet Area</td>\n",
       "      <td>Hyderabad</td>\n",
       "      <td>Semi-Furnished</td>\n",
       "      <td>Bachelors/Family</td>\n",
       "      <td>Contact Agent</td>\n",
       "    </tr>\n",
       "    <tr>\n",
       "      <th>4744</th>\n",
       "      <td>Carpet Area</td>\n",
       "      <td>Hyderabad</td>\n",
       "      <td>Semi-Furnished</td>\n",
       "      <td>Family</td>\n",
       "      <td>Contact Agent</td>\n",
       "    </tr>\n",
       "    <tr>\n",
       "      <th>4745</th>\n",
       "      <td>Carpet Area</td>\n",
       "      <td>Hyderabad</td>\n",
       "      <td>Unfurnished</td>\n",
       "      <td>Bachelors</td>\n",
       "      <td>Contact Owner</td>\n",
       "    </tr>\n",
       "  </tbody>\n",
       "</table>\n",
       "<p>4746 rows × 5 columns</p>\n",
       "</div>"
      ],
      "text/plain": [
       "        Area Type       City Furnishing Status  Tenant Preferred  \\\n",
       "0      Super Area    Kolkata       Unfurnished  Bachelors/Family   \n",
       "1      Super Area    Kolkata    Semi-Furnished  Bachelors/Family   \n",
       "2      Super Area    Kolkata    Semi-Furnished  Bachelors/Family   \n",
       "3      Super Area    Kolkata       Unfurnished  Bachelors/Family   \n",
       "4     Carpet Area    Kolkata       Unfurnished         Bachelors   \n",
       "...           ...        ...               ...               ...   \n",
       "4741  Carpet Area  Hyderabad    Semi-Furnished  Bachelors/Family   \n",
       "4742   Super Area  Hyderabad    Semi-Furnished  Bachelors/Family   \n",
       "4743  Carpet Area  Hyderabad    Semi-Furnished  Bachelors/Family   \n",
       "4744  Carpet Area  Hyderabad    Semi-Furnished            Family   \n",
       "4745  Carpet Area  Hyderabad       Unfurnished         Bachelors   \n",
       "\n",
       "     Point of Contact  \n",
       "0       Contact Owner  \n",
       "1       Contact Owner  \n",
       "2       Contact Owner  \n",
       "3       Contact Owner  \n",
       "4       Contact Owner  \n",
       "...               ...  \n",
       "4741    Contact Owner  \n",
       "4742    Contact Owner  \n",
       "4743    Contact Agent  \n",
       "4744    Contact Agent  \n",
       "4745    Contact Owner  \n",
       "\n",
       "[4746 rows x 5 columns]"
      ]
     },
     "execution_count": 225,
     "metadata": {},
     "output_type": "execute_result"
    }
   ],
   "source": [
    "\n",
    "df_col_ohe"
   ]
  },
  {
   "cell_type": "code",
   "execution_count": 229,
   "id": "4165746d",
   "metadata": {},
   "outputs": [],
   "source": [
    "df_Area  = df[['Area Type']]\n",
    "df_City = df[['City']]\n",
    "df_Furnish = df[['Furnishing Status']]\n",
    "df_Tenant = df[['Tenant Preferred']]\n",
    "df_Point = df[['Point of Contact']]"
   ]
  },
  {
   "cell_type": "code",
   "execution_count": 230,
   "id": "b8c04e1d",
   "metadata": {},
   "outputs": [],
   "source": [
    "## Applying One hot Encoding on Nominal Columns\n",
    "\n",
    "from sklearn.preprocessing import OneHotEncoder\n",
    "ohe_Area = OneHotEncoder(sparse = False , dtype = np.int32 , handle_unknown='ignore')\n",
    "df_Area_tranform = ohe_Area.fit_transform(df_Area)\n",
    "\n",
    "ohe_City = OneHotEncoder(sparse = False , dtype = np.int32 , handle_unknown='ignore')\n",
    "df_City_transform = ohe_City.fit_transform(df_City)\n",
    "\n",
    "ohe_Furnish = OneHotEncoder(sparse = False , dtype = np.int32 , handle_unknown='ignore')\n",
    "df_Furnish_transform = ohe_Furnish.fit_transform(df_Furnish)\n",
    "\n",
    "ohe_Tenant = OneHotEncoder(sparse = False , dtype = np.int32 , handle_unknown='ignore')\n",
    "df_Tenant_transform = ohe_Tenant.fit_transform(df_Tenant)\n",
    "\n",
    "ohe_Point = OneHotEncoder(sparse = False , dtype = np.int32 , handle_unknown='ignore')\n",
    "df_Point_transform =  ohe_Point.fit_transform(df_Point)"
   ]
  },
  {
   "cell_type": "code",
   "execution_count": 232,
   "id": "7f1525e4",
   "metadata": {},
   "outputs": [],
   "source": [
    "df_Area_tranform = pd.DataFrame(df_Area_tranform , columns = ohe_Area.get_feature_names_out())\n",
    "df_City_transform = pd.DataFrame(df_City_transform , columns = ohe_City.get_feature_names_out())\n",
    "df_Furnish_transform = pd.DataFrame(df_Furnish_transform , columns = ohe_Furnish.get_feature_names_out())\n",
    "df_Tenant_transform = pd.DataFrame(df_Tenant_transform , columns = ohe_Tenant.get_feature_names_out())\n",
    "df_Point_transform = pd.DataFrame(df_Point_transform , columns = ohe_Point.get_feature_names_out())"
   ]
  },
  {
   "cell_type": "code",
   "execution_count": 233,
   "id": "f925f9ba",
   "metadata": {},
   "outputs": [
    {
     "data": {
      "text/html": [
       "<div>\n",
       "<style scoped>\n",
       "    .dataframe tbody tr th:only-of-type {\n",
       "        vertical-align: middle;\n",
       "    }\n",
       "\n",
       "    .dataframe tbody tr th {\n",
       "        vertical-align: top;\n",
       "    }\n",
       "\n",
       "    .dataframe thead th {\n",
       "        text-align: right;\n",
       "    }\n",
       "</style>\n",
       "<table border=\"1\" class=\"dataframe\">\n",
       "  <thead>\n",
       "    <tr style=\"text-align: right;\">\n",
       "      <th></th>\n",
       "      <th>Area Type_Built Area</th>\n",
       "      <th>Area Type_Carpet Area</th>\n",
       "      <th>Area Type_Super Area</th>\n",
       "    </tr>\n",
       "  </thead>\n",
       "  <tbody>\n",
       "    <tr>\n",
       "      <th>2092</th>\n",
       "      <td>0</td>\n",
       "      <td>1</td>\n",
       "      <td>0</td>\n",
       "    </tr>\n",
       "  </tbody>\n",
       "</table>\n",
       "</div>"
      ],
      "text/plain": [
       "      Area Type_Built Area  Area Type_Carpet Area  Area Type_Super Area\n",
       "2092                     0                      1                     0"
      ]
     },
     "execution_count": 233,
     "metadata": {},
     "output_type": "execute_result"
    }
   ],
   "source": [
    "df_Area_tranform.sample()"
   ]
  },
  {
   "cell_type": "code",
   "execution_count": 234,
   "id": "db5ec3fa",
   "metadata": {},
   "outputs": [
    {
     "data": {
      "text/html": [
       "<div>\n",
       "<style scoped>\n",
       "    .dataframe tbody tr th:only-of-type {\n",
       "        vertical-align: middle;\n",
       "    }\n",
       "\n",
       "    .dataframe tbody tr th {\n",
       "        vertical-align: top;\n",
       "    }\n",
       "\n",
       "    .dataframe thead th {\n",
       "        text-align: right;\n",
       "    }\n",
       "</style>\n",
       "<table border=\"1\" class=\"dataframe\">\n",
       "  <thead>\n",
       "    <tr style=\"text-align: right;\">\n",
       "      <th></th>\n",
       "      <th>City_Bangalore</th>\n",
       "      <th>City_Chennai</th>\n",
       "      <th>City_Delhi</th>\n",
       "      <th>City_Hyderabad</th>\n",
       "      <th>City_Kolkata</th>\n",
       "      <th>City_Mumbai</th>\n",
       "    </tr>\n",
       "  </thead>\n",
       "  <tbody>\n",
       "    <tr>\n",
       "      <th>4</th>\n",
       "      <td>0</td>\n",
       "      <td>0</td>\n",
       "      <td>0</td>\n",
       "      <td>0</td>\n",
       "      <td>1</td>\n",
       "      <td>0</td>\n",
       "    </tr>\n",
       "  </tbody>\n",
       "</table>\n",
       "</div>"
      ],
      "text/plain": [
       "   City_Bangalore  City_Chennai  City_Delhi  City_Hyderabad  City_Kolkata  \\\n",
       "4               0             0           0               0             1   \n",
       "\n",
       "   City_Mumbai  \n",
       "4            0  "
      ]
     },
     "execution_count": 234,
     "metadata": {},
     "output_type": "execute_result"
    }
   ],
   "source": [
    "df_City_transform.sample()"
   ]
  },
  {
   "cell_type": "code",
   "execution_count": 235,
   "id": "8f1577cb",
   "metadata": {},
   "outputs": [
    {
     "data": {
      "text/html": [
       "<div>\n",
       "<style scoped>\n",
       "    .dataframe tbody tr th:only-of-type {\n",
       "        vertical-align: middle;\n",
       "    }\n",
       "\n",
       "    .dataframe tbody tr th {\n",
       "        vertical-align: top;\n",
       "    }\n",
       "\n",
       "    .dataframe thead th {\n",
       "        text-align: right;\n",
       "    }\n",
       "</style>\n",
       "<table border=\"1\" class=\"dataframe\">\n",
       "  <thead>\n",
       "    <tr style=\"text-align: right;\">\n",
       "      <th></th>\n",
       "      <th>Furnishing Status_Furnished</th>\n",
       "      <th>Furnishing Status_Semi-Furnished</th>\n",
       "      <th>Furnishing Status_Unfurnished</th>\n",
       "    </tr>\n",
       "  </thead>\n",
       "  <tbody>\n",
       "    <tr>\n",
       "      <th>2851</th>\n",
       "      <td>0</td>\n",
       "      <td>0</td>\n",
       "      <td>1</td>\n",
       "    </tr>\n",
       "  </tbody>\n",
       "</table>\n",
       "</div>"
      ],
      "text/plain": [
       "      Furnishing Status_Furnished  Furnishing Status_Semi-Furnished  \\\n",
       "2851                            0                                 0   \n",
       "\n",
       "      Furnishing Status_Unfurnished  \n",
       "2851                              1  "
      ]
     },
     "execution_count": 235,
     "metadata": {},
     "output_type": "execute_result"
    }
   ],
   "source": [
    "df_Furnish_transform.sample()"
   ]
  },
  {
   "cell_type": "code",
   "execution_count": 236,
   "id": "3a4a6f1a",
   "metadata": {},
   "outputs": [
    {
     "data": {
      "text/html": [
       "<div>\n",
       "<style scoped>\n",
       "    .dataframe tbody tr th:only-of-type {\n",
       "        vertical-align: middle;\n",
       "    }\n",
       "\n",
       "    .dataframe tbody tr th {\n",
       "        vertical-align: top;\n",
       "    }\n",
       "\n",
       "    .dataframe thead th {\n",
       "        text-align: right;\n",
       "    }\n",
       "</style>\n",
       "<table border=\"1\" class=\"dataframe\">\n",
       "  <thead>\n",
       "    <tr style=\"text-align: right;\">\n",
       "      <th></th>\n",
       "      <th>Tenant Preferred_Bachelors</th>\n",
       "      <th>Tenant Preferred_Bachelors/Family</th>\n",
       "      <th>Tenant Preferred_Family</th>\n",
       "    </tr>\n",
       "  </thead>\n",
       "  <tbody>\n",
       "    <tr>\n",
       "      <th>4411</th>\n",
       "      <td>0</td>\n",
       "      <td>1</td>\n",
       "      <td>0</td>\n",
       "    </tr>\n",
       "  </tbody>\n",
       "</table>\n",
       "</div>"
      ],
      "text/plain": [
       "      Tenant Preferred_Bachelors  Tenant Preferred_Bachelors/Family  \\\n",
       "4411                           0                                  1   \n",
       "\n",
       "      Tenant Preferred_Family  \n",
       "4411                        0  "
      ]
     },
     "execution_count": 236,
     "metadata": {},
     "output_type": "execute_result"
    }
   ],
   "source": [
    "df_Tenant_transform.sample()"
   ]
  },
  {
   "cell_type": "code",
   "execution_count": 237,
   "id": "a45b7724",
   "metadata": {},
   "outputs": [
    {
     "data": {
      "text/html": [
       "<div>\n",
       "<style scoped>\n",
       "    .dataframe tbody tr th:only-of-type {\n",
       "        vertical-align: middle;\n",
       "    }\n",
       "\n",
       "    .dataframe tbody tr th {\n",
       "        vertical-align: top;\n",
       "    }\n",
       "\n",
       "    .dataframe thead th {\n",
       "        text-align: right;\n",
       "    }\n",
       "</style>\n",
       "<table border=\"1\" class=\"dataframe\">\n",
       "  <thead>\n",
       "    <tr style=\"text-align: right;\">\n",
       "      <th></th>\n",
       "      <th>Point of Contact_Contact Agent</th>\n",
       "      <th>Point of Contact_Contact Builder</th>\n",
       "      <th>Point of Contact_Contact Owner</th>\n",
       "    </tr>\n",
       "  </thead>\n",
       "  <tbody>\n",
       "    <tr>\n",
       "      <th>1371</th>\n",
       "      <td>1</td>\n",
       "      <td>0</td>\n",
       "      <td>0</td>\n",
       "    </tr>\n",
       "  </tbody>\n",
       "</table>\n",
       "</div>"
      ],
      "text/plain": [
       "      Point of Contact_Contact Agent  Point of Contact_Contact Builder  \\\n",
       "1371                               1                                 0   \n",
       "\n",
       "      Point of Contact_Contact Owner  \n",
       "1371                               0  "
      ]
     },
     "execution_count": 237,
     "metadata": {},
     "output_type": "execute_result"
    }
   ],
   "source": [
    "df_Point_transform.sample()"
   ]
  },
  {
   "cell_type": "code",
   "execution_count": 238,
   "id": "79a652b6",
   "metadata": {},
   "outputs": [
    {
     "data": {
      "text/plain": [
       "((4746, 3), (4746, 6), (4746, 3), (4746, 3), (4746, 3))"
      ]
     },
     "execution_count": 238,
     "metadata": {},
     "output_type": "execute_result"
    }
   ],
   "source": [
    "df_Area_tranform.shape , df_City_transform.shape , df_Furnish_transform.shape , df_Tenant_transform.shape , df_Point_transform.shape"
   ]
  },
  {
   "cell_type": "code",
   "execution_count": 239,
   "id": "9afc62e0",
   "metadata": {},
   "outputs": [],
   "source": [
    "df_tranform = pd.concat((df_Area_tranform ,df_City_transform , df_Furnish_transform , df_Tenant_transform , df_Point_transform ) , axis = 1)"
   ]
  },
  {
   "cell_type": "code",
   "execution_count": 240,
   "id": "b9abadfb",
   "metadata": {},
   "outputs": [
    {
     "data": {
      "text/html": [
       "<div>\n",
       "<style scoped>\n",
       "    .dataframe tbody tr th:only-of-type {\n",
       "        vertical-align: middle;\n",
       "    }\n",
       "\n",
       "    .dataframe tbody tr th {\n",
       "        vertical-align: top;\n",
       "    }\n",
       "\n",
       "    .dataframe thead th {\n",
       "        text-align: right;\n",
       "    }\n",
       "</style>\n",
       "<table border=\"1\" class=\"dataframe\">\n",
       "  <thead>\n",
       "    <tr style=\"text-align: right;\">\n",
       "      <th></th>\n",
       "      <th>Area Type_Built Area</th>\n",
       "      <th>Area Type_Carpet Area</th>\n",
       "      <th>Area Type_Super Area</th>\n",
       "      <th>City_Bangalore</th>\n",
       "      <th>City_Chennai</th>\n",
       "      <th>City_Delhi</th>\n",
       "      <th>City_Hyderabad</th>\n",
       "      <th>City_Kolkata</th>\n",
       "      <th>City_Mumbai</th>\n",
       "      <th>Furnishing Status_Furnished</th>\n",
       "      <th>Furnishing Status_Semi-Furnished</th>\n",
       "      <th>Furnishing Status_Unfurnished</th>\n",
       "      <th>Tenant Preferred_Bachelors</th>\n",
       "      <th>Tenant Preferred_Bachelors/Family</th>\n",
       "      <th>Tenant Preferred_Family</th>\n",
       "      <th>Point of Contact_Contact Agent</th>\n",
       "      <th>Point of Contact_Contact Builder</th>\n",
       "      <th>Point of Contact_Contact Owner</th>\n",
       "    </tr>\n",
       "  </thead>\n",
       "  <tbody>\n",
       "    <tr>\n",
       "      <th>0</th>\n",
       "      <td>0</td>\n",
       "      <td>0</td>\n",
       "      <td>1</td>\n",
       "      <td>0</td>\n",
       "      <td>0</td>\n",
       "      <td>0</td>\n",
       "      <td>0</td>\n",
       "      <td>1</td>\n",
       "      <td>0</td>\n",
       "      <td>0</td>\n",
       "      <td>0</td>\n",
       "      <td>1</td>\n",
       "      <td>0</td>\n",
       "      <td>1</td>\n",
       "      <td>0</td>\n",
       "      <td>0</td>\n",
       "      <td>0</td>\n",
       "      <td>1</td>\n",
       "    </tr>\n",
       "    <tr>\n",
       "      <th>1</th>\n",
       "      <td>0</td>\n",
       "      <td>0</td>\n",
       "      <td>1</td>\n",
       "      <td>0</td>\n",
       "      <td>0</td>\n",
       "      <td>0</td>\n",
       "      <td>0</td>\n",
       "      <td>1</td>\n",
       "      <td>0</td>\n",
       "      <td>0</td>\n",
       "      <td>1</td>\n",
       "      <td>0</td>\n",
       "      <td>0</td>\n",
       "      <td>1</td>\n",
       "      <td>0</td>\n",
       "      <td>0</td>\n",
       "      <td>0</td>\n",
       "      <td>1</td>\n",
       "    </tr>\n",
       "    <tr>\n",
       "      <th>2</th>\n",
       "      <td>0</td>\n",
       "      <td>0</td>\n",
       "      <td>1</td>\n",
       "      <td>0</td>\n",
       "      <td>0</td>\n",
       "      <td>0</td>\n",
       "      <td>0</td>\n",
       "      <td>1</td>\n",
       "      <td>0</td>\n",
       "      <td>0</td>\n",
       "      <td>1</td>\n",
       "      <td>0</td>\n",
       "      <td>0</td>\n",
       "      <td>1</td>\n",
       "      <td>0</td>\n",
       "      <td>0</td>\n",
       "      <td>0</td>\n",
       "      <td>1</td>\n",
       "    </tr>\n",
       "    <tr>\n",
       "      <th>3</th>\n",
       "      <td>0</td>\n",
       "      <td>0</td>\n",
       "      <td>1</td>\n",
       "      <td>0</td>\n",
       "      <td>0</td>\n",
       "      <td>0</td>\n",
       "      <td>0</td>\n",
       "      <td>1</td>\n",
       "      <td>0</td>\n",
       "      <td>0</td>\n",
       "      <td>0</td>\n",
       "      <td>1</td>\n",
       "      <td>0</td>\n",
       "      <td>1</td>\n",
       "      <td>0</td>\n",
       "      <td>0</td>\n",
       "      <td>0</td>\n",
       "      <td>1</td>\n",
       "    </tr>\n",
       "    <tr>\n",
       "      <th>4</th>\n",
       "      <td>0</td>\n",
       "      <td>1</td>\n",
       "      <td>0</td>\n",
       "      <td>0</td>\n",
       "      <td>0</td>\n",
       "      <td>0</td>\n",
       "      <td>0</td>\n",
       "      <td>1</td>\n",
       "      <td>0</td>\n",
       "      <td>0</td>\n",
       "      <td>0</td>\n",
       "      <td>1</td>\n",
       "      <td>1</td>\n",
       "      <td>0</td>\n",
       "      <td>0</td>\n",
       "      <td>0</td>\n",
       "      <td>0</td>\n",
       "      <td>1</td>\n",
       "    </tr>\n",
       "  </tbody>\n",
       "</table>\n",
       "</div>"
      ],
      "text/plain": [
       "   Area Type_Built Area  Area Type_Carpet Area  Area Type_Super Area  \\\n",
       "0                     0                      0                     1   \n",
       "1                     0                      0                     1   \n",
       "2                     0                      0                     1   \n",
       "3                     0                      0                     1   \n",
       "4                     0                      1                     0   \n",
       "\n",
       "   City_Bangalore  City_Chennai  City_Delhi  City_Hyderabad  City_Kolkata  \\\n",
       "0               0             0           0               0             1   \n",
       "1               0             0           0               0             1   \n",
       "2               0             0           0               0             1   \n",
       "3               0             0           0               0             1   \n",
       "4               0             0           0               0             1   \n",
       "\n",
       "   City_Mumbai  Furnishing Status_Furnished  Furnishing Status_Semi-Furnished  \\\n",
       "0            0                            0                                 0   \n",
       "1            0                            0                                 1   \n",
       "2            0                            0                                 1   \n",
       "3            0                            0                                 0   \n",
       "4            0                            0                                 0   \n",
       "\n",
       "   Furnishing Status_Unfurnished  Tenant Preferred_Bachelors  \\\n",
       "0                              1                           0   \n",
       "1                              0                           0   \n",
       "2                              0                           0   \n",
       "3                              1                           0   \n",
       "4                              1                           1   \n",
       "\n",
       "   Tenant Preferred_Bachelors/Family  Tenant Preferred_Family  \\\n",
       "0                                  1                        0   \n",
       "1                                  1                        0   \n",
       "2                                  1                        0   \n",
       "3                                  1                        0   \n",
       "4                                  0                        0   \n",
       "\n",
       "   Point of Contact_Contact Agent  Point of Contact_Contact Builder  \\\n",
       "0                               0                                 0   \n",
       "1                               0                                 0   \n",
       "2                               0                                 0   \n",
       "3                               0                                 0   \n",
       "4                               0                                 0   \n",
       "\n",
       "   Point of Contact_Contact Owner  \n",
       "0                               1  \n",
       "1                               1  \n",
       "2                               1  \n",
       "3                               1  \n",
       "4                               1  "
      ]
     },
     "execution_count": 240,
     "metadata": {},
     "output_type": "execute_result"
    }
   ],
   "source": [
    "df_tranform.head()"
   ]
  },
  {
   "cell_type": "code",
   "execution_count": 241,
   "id": "a5f11f81",
   "metadata": {},
   "outputs": [
    {
     "data": {
      "text/plain": [
       "(4746, 18)"
      ]
     },
     "execution_count": 241,
     "metadata": {},
     "output_type": "execute_result"
    }
   ],
   "source": [
    "df_tranform.shape"
   ]
  },
  {
   "cell_type": "code",
   "execution_count": 242,
   "id": "28985cd4",
   "metadata": {},
   "outputs": [],
   "source": [
    "df_remaning = df.drop(columns = ['Area Type' , 'City' , 'Furnishing Status' , 'Tenant Preferred' , 'Point of Contact'])"
   ]
  },
  {
   "cell_type": "code",
   "execution_count": 243,
   "id": "7bc174e4",
   "metadata": {},
   "outputs": [
    {
     "data": {
      "text/html": [
       "<div>\n",
       "<style scoped>\n",
       "    .dataframe tbody tr th:only-of-type {\n",
       "        vertical-align: middle;\n",
       "    }\n",
       "\n",
       "    .dataframe tbody tr th {\n",
       "        vertical-align: top;\n",
       "    }\n",
       "\n",
       "    .dataframe thead th {\n",
       "        text-align: right;\n",
       "    }\n",
       "</style>\n",
       "<table border=\"1\" class=\"dataframe\">\n",
       "  <thead>\n",
       "    <tr style=\"text-align: right;\">\n",
       "      <th></th>\n",
       "      <th>Posted On</th>\n",
       "      <th>BHK</th>\n",
       "      <th>Rent</th>\n",
       "      <th>Size</th>\n",
       "      <th>Floor</th>\n",
       "      <th>Area Locality</th>\n",
       "      <th>Bathroom</th>\n",
       "    </tr>\n",
       "  </thead>\n",
       "  <tbody>\n",
       "    <tr>\n",
       "      <th>0</th>\n",
       "      <td>2022-05-18</td>\n",
       "      <td>2</td>\n",
       "      <td>10000</td>\n",
       "      <td>1100</td>\n",
       "      <td>Ground out of 2</td>\n",
       "      <td>Bandel</td>\n",
       "      <td>2</td>\n",
       "    </tr>\n",
       "    <tr>\n",
       "      <th>1</th>\n",
       "      <td>2022-05-13</td>\n",
       "      <td>2</td>\n",
       "      <td>20000</td>\n",
       "      <td>800</td>\n",
       "      <td>1 out of 3</td>\n",
       "      <td>Phool Bagan, Kankurgachi</td>\n",
       "      <td>1</td>\n",
       "    </tr>\n",
       "    <tr>\n",
       "      <th>2</th>\n",
       "      <td>2022-05-16</td>\n",
       "      <td>2</td>\n",
       "      <td>17000</td>\n",
       "      <td>1000</td>\n",
       "      <td>1 out of 3</td>\n",
       "      <td>Salt Lake City Sector 2</td>\n",
       "      <td>1</td>\n",
       "    </tr>\n",
       "    <tr>\n",
       "      <th>3</th>\n",
       "      <td>2022-07-04</td>\n",
       "      <td>2</td>\n",
       "      <td>10000</td>\n",
       "      <td>800</td>\n",
       "      <td>1 out of 2</td>\n",
       "      <td>Dumdum Park</td>\n",
       "      <td>1</td>\n",
       "    </tr>\n",
       "    <tr>\n",
       "      <th>4</th>\n",
       "      <td>2022-05-09</td>\n",
       "      <td>2</td>\n",
       "      <td>7500</td>\n",
       "      <td>850</td>\n",
       "      <td>1 out of 2</td>\n",
       "      <td>South Dum Dum</td>\n",
       "      <td>1</td>\n",
       "    </tr>\n",
       "  </tbody>\n",
       "</table>\n",
       "</div>"
      ],
      "text/plain": [
       "    Posted On  BHK   Rent  Size            Floor             Area Locality  \\\n",
       "0  2022-05-18    2  10000  1100  Ground out of 2                    Bandel   \n",
       "1  2022-05-13    2  20000   800       1 out of 3  Phool Bagan, Kankurgachi   \n",
       "2  2022-05-16    2  17000  1000       1 out of 3   Salt Lake City Sector 2   \n",
       "3  2022-07-04    2  10000   800       1 out of 2               Dumdum Park   \n",
       "4  2022-05-09    2   7500   850       1 out of 2             South Dum Dum   \n",
       "\n",
       "   Bathroom  \n",
       "0         2  \n",
       "1         1  \n",
       "2         1  \n",
       "3         1  \n",
       "4         1  "
      ]
     },
     "execution_count": 243,
     "metadata": {},
     "output_type": "execute_result"
    }
   ],
   "source": [
    "df_remaning.head()"
   ]
  },
  {
   "cell_type": "code",
   "execution_count": 244,
   "id": "954b322d",
   "metadata": {},
   "outputs": [
    {
     "data": {
      "text/plain": [
       "(4746, 7)"
      ]
     },
     "execution_count": 244,
     "metadata": {},
     "output_type": "execute_result"
    }
   ],
   "source": [
    "df_remaning.shape"
   ]
  },
  {
   "cell_type": "code",
   "execution_count": 245,
   "id": "264657af",
   "metadata": {},
   "outputs": [
    {
     "data": {
      "text/plain": [
       "Posted On        0\n",
       "BHK              0\n",
       "Rent             0\n",
       "Size             0\n",
       "Floor            0\n",
       "Area Locality    0\n",
       "Bathroom         0\n",
       "dtype: int64"
      ]
     },
     "execution_count": 245,
     "metadata": {},
     "output_type": "execute_result"
    }
   ],
   "source": [
    "df_remaning.isnull().sum()"
   ]
  },
  {
   "cell_type": "code",
   "execution_count": 246,
   "id": "1b8ce55a",
   "metadata": {},
   "outputs": [],
   "source": [
    "df_remaning.drop(['Posted On' , 'Floor' , 'Area Locality'] , axis = 1 , inplace = True)"
   ]
  },
  {
   "cell_type": "code",
   "execution_count": 247,
   "id": "e1bfa5b4",
   "metadata": {},
   "outputs": [],
   "source": [
    "df_final = pd.concat((df_remaning , df_tranform) , axis = 1)"
   ]
  },
  {
   "cell_type": "code",
   "execution_count": 248,
   "id": "15d30b88",
   "metadata": {},
   "outputs": [
    {
     "data": {
      "text/plain": [
       "(4746, 22)"
      ]
     },
     "execution_count": 248,
     "metadata": {},
     "output_type": "execute_result"
    }
   ],
   "source": [
    "df_final.shape"
   ]
  },
  {
   "cell_type": "code",
   "execution_count": 249,
   "id": "a9d76e04",
   "metadata": {},
   "outputs": [
    {
     "data": {
      "text/html": [
       "<div>\n",
       "<style scoped>\n",
       "    .dataframe tbody tr th:only-of-type {\n",
       "        vertical-align: middle;\n",
       "    }\n",
       "\n",
       "    .dataframe tbody tr th {\n",
       "        vertical-align: top;\n",
       "    }\n",
       "\n",
       "    .dataframe thead th {\n",
       "        text-align: right;\n",
       "    }\n",
       "</style>\n",
       "<table border=\"1\" class=\"dataframe\">\n",
       "  <thead>\n",
       "    <tr style=\"text-align: right;\">\n",
       "      <th></th>\n",
       "      <th>BHK</th>\n",
       "      <th>Rent</th>\n",
       "      <th>Size</th>\n",
       "      <th>Bathroom</th>\n",
       "      <th>Area Type_Built Area</th>\n",
       "      <th>Area Type_Carpet Area</th>\n",
       "      <th>Area Type_Super Area</th>\n",
       "      <th>City_Bangalore</th>\n",
       "      <th>City_Chennai</th>\n",
       "      <th>City_Delhi</th>\n",
       "      <th>...</th>\n",
       "      <th>City_Mumbai</th>\n",
       "      <th>Furnishing Status_Furnished</th>\n",
       "      <th>Furnishing Status_Semi-Furnished</th>\n",
       "      <th>Furnishing Status_Unfurnished</th>\n",
       "      <th>Tenant Preferred_Bachelors</th>\n",
       "      <th>Tenant Preferred_Bachelors/Family</th>\n",
       "      <th>Tenant Preferred_Family</th>\n",
       "      <th>Point of Contact_Contact Agent</th>\n",
       "      <th>Point of Contact_Contact Builder</th>\n",
       "      <th>Point of Contact_Contact Owner</th>\n",
       "    </tr>\n",
       "  </thead>\n",
       "  <tbody>\n",
       "    <tr>\n",
       "      <th>0</th>\n",
       "      <td>2</td>\n",
       "      <td>10000</td>\n",
       "      <td>1100</td>\n",
       "      <td>2</td>\n",
       "      <td>0</td>\n",
       "      <td>0</td>\n",
       "      <td>1</td>\n",
       "      <td>0</td>\n",
       "      <td>0</td>\n",
       "      <td>0</td>\n",
       "      <td>...</td>\n",
       "      <td>0</td>\n",
       "      <td>0</td>\n",
       "      <td>0</td>\n",
       "      <td>1</td>\n",
       "      <td>0</td>\n",
       "      <td>1</td>\n",
       "      <td>0</td>\n",
       "      <td>0</td>\n",
       "      <td>0</td>\n",
       "      <td>1</td>\n",
       "    </tr>\n",
       "    <tr>\n",
       "      <th>1</th>\n",
       "      <td>2</td>\n",
       "      <td>20000</td>\n",
       "      <td>800</td>\n",
       "      <td>1</td>\n",
       "      <td>0</td>\n",
       "      <td>0</td>\n",
       "      <td>1</td>\n",
       "      <td>0</td>\n",
       "      <td>0</td>\n",
       "      <td>0</td>\n",
       "      <td>...</td>\n",
       "      <td>0</td>\n",
       "      <td>0</td>\n",
       "      <td>1</td>\n",
       "      <td>0</td>\n",
       "      <td>0</td>\n",
       "      <td>1</td>\n",
       "      <td>0</td>\n",
       "      <td>0</td>\n",
       "      <td>0</td>\n",
       "      <td>1</td>\n",
       "    </tr>\n",
       "    <tr>\n",
       "      <th>2</th>\n",
       "      <td>2</td>\n",
       "      <td>17000</td>\n",
       "      <td>1000</td>\n",
       "      <td>1</td>\n",
       "      <td>0</td>\n",
       "      <td>0</td>\n",
       "      <td>1</td>\n",
       "      <td>0</td>\n",
       "      <td>0</td>\n",
       "      <td>0</td>\n",
       "      <td>...</td>\n",
       "      <td>0</td>\n",
       "      <td>0</td>\n",
       "      <td>1</td>\n",
       "      <td>0</td>\n",
       "      <td>0</td>\n",
       "      <td>1</td>\n",
       "      <td>0</td>\n",
       "      <td>0</td>\n",
       "      <td>0</td>\n",
       "      <td>1</td>\n",
       "    </tr>\n",
       "    <tr>\n",
       "      <th>3</th>\n",
       "      <td>2</td>\n",
       "      <td>10000</td>\n",
       "      <td>800</td>\n",
       "      <td>1</td>\n",
       "      <td>0</td>\n",
       "      <td>0</td>\n",
       "      <td>1</td>\n",
       "      <td>0</td>\n",
       "      <td>0</td>\n",
       "      <td>0</td>\n",
       "      <td>...</td>\n",
       "      <td>0</td>\n",
       "      <td>0</td>\n",
       "      <td>0</td>\n",
       "      <td>1</td>\n",
       "      <td>0</td>\n",
       "      <td>1</td>\n",
       "      <td>0</td>\n",
       "      <td>0</td>\n",
       "      <td>0</td>\n",
       "      <td>1</td>\n",
       "    </tr>\n",
       "    <tr>\n",
       "      <th>4</th>\n",
       "      <td>2</td>\n",
       "      <td>7500</td>\n",
       "      <td>850</td>\n",
       "      <td>1</td>\n",
       "      <td>0</td>\n",
       "      <td>1</td>\n",
       "      <td>0</td>\n",
       "      <td>0</td>\n",
       "      <td>0</td>\n",
       "      <td>0</td>\n",
       "      <td>...</td>\n",
       "      <td>0</td>\n",
       "      <td>0</td>\n",
       "      <td>0</td>\n",
       "      <td>1</td>\n",
       "      <td>1</td>\n",
       "      <td>0</td>\n",
       "      <td>0</td>\n",
       "      <td>0</td>\n",
       "      <td>0</td>\n",
       "      <td>1</td>\n",
       "    </tr>\n",
       "  </tbody>\n",
       "</table>\n",
       "<p>5 rows × 22 columns</p>\n",
       "</div>"
      ],
      "text/plain": [
       "   BHK   Rent  Size  Bathroom  Area Type_Built Area  Area Type_Carpet Area  \\\n",
       "0    2  10000  1100         2                     0                      0   \n",
       "1    2  20000   800         1                     0                      0   \n",
       "2    2  17000  1000         1                     0                      0   \n",
       "3    2  10000   800         1                     0                      0   \n",
       "4    2   7500   850         1                     0                      1   \n",
       "\n",
       "   Area Type_Super Area  City_Bangalore  City_Chennai  City_Delhi  ...  \\\n",
       "0                     1               0             0           0  ...   \n",
       "1                     1               0             0           0  ...   \n",
       "2                     1               0             0           0  ...   \n",
       "3                     1               0             0           0  ...   \n",
       "4                     0               0             0           0  ...   \n",
       "\n",
       "   City_Mumbai  Furnishing Status_Furnished  Furnishing Status_Semi-Furnished  \\\n",
       "0            0                            0                                 0   \n",
       "1            0                            0                                 1   \n",
       "2            0                            0                                 1   \n",
       "3            0                            0                                 0   \n",
       "4            0                            0                                 0   \n",
       "\n",
       "   Furnishing Status_Unfurnished  Tenant Preferred_Bachelors  \\\n",
       "0                              1                           0   \n",
       "1                              0                           0   \n",
       "2                              0                           0   \n",
       "3                              1                           0   \n",
       "4                              1                           1   \n",
       "\n",
       "   Tenant Preferred_Bachelors/Family  Tenant Preferred_Family  \\\n",
       "0                                  1                        0   \n",
       "1                                  1                        0   \n",
       "2                                  1                        0   \n",
       "3                                  1                        0   \n",
       "4                                  0                        0   \n",
       "\n",
       "   Point of Contact_Contact Agent  Point of Contact_Contact Builder  \\\n",
       "0                               0                                 0   \n",
       "1                               0                                 0   \n",
       "2                               0                                 0   \n",
       "3                               0                                 0   \n",
       "4                               0                                 0   \n",
       "\n",
       "   Point of Contact_Contact Owner  \n",
       "0                               1  \n",
       "1                               1  \n",
       "2                               1  \n",
       "3                               1  \n",
       "4                               1  \n",
       "\n",
       "[5 rows x 22 columns]"
      ]
     },
     "execution_count": 249,
     "metadata": {},
     "output_type": "execute_result"
    }
   ],
   "source": [
    "df_final.head()"
   ]
  },
  {
   "cell_type": "code",
   "execution_count": 250,
   "id": "2afd3a91",
   "metadata": {},
   "outputs": [
    {
     "data": {
      "text/plain": [
       "<AxesSubplot:xlabel='Rent'>"
      ]
     },
     "execution_count": 250,
     "metadata": {},
     "output_type": "execute_result"
    },
    {
     "data": {
      "image/png": "[encoded data removed]",
      "text/plain": [
       "<Figure size 640x480 with 1 Axes>"
      ]
     },
     "metadata": {},
     "output_type": "display_data"
    }
   ],
   "source": [
    "## Removing Outliers from Rent \n",
    "sns.boxplot(x = 'Rent' ,data = df)"
   ]
  },
  {
   "cell_type": "code",
   "execution_count": 251,
   "id": "ec990c31",
   "metadata": {},
   "outputs": [
    {
     "data": {
      "text/plain": [
       "(array([ 104,  530,  531,  533,  542,  543,  545,  556,  560,  579,  589,\n",
       "         591,  593,  595,  600,  601,  603,  606,  607,  615,  617,  623,\n",
       "         625,  627,  631,  634,  635,  639,  643,  651,  658,  666,  673,\n",
       "         680,  682,  685,  687,  699,  700,  701,  702,  706,  710,  726,\n",
       "         727,  728,  733,  735,  742,  745,  749,  754,  757,  766,  768,\n",
       "         770,  771,  773,  777,  778,  780,  788,  789,  790,  792,  795,\n",
       "         798,  799,  827,  829,  832,  835,  839,  842,  847,  848,  850,\n",
       "         851,  857,  858,  859,  867,  869,  871,  874,  876,  889,  898,\n",
       "         902,  921,  923,  927,  930,  932,  936,  951,  952,  973,  984,\n",
       "         985,  986,  988,  991,  992,  994,  995, 1001, 1004, 1005, 1010,\n",
       "        1019, 1023, 1024, 1029, 1030, 1031, 1032, 1034, 1035, 1037, 1042,\n",
       "        1045, 1052, 1055, 1065, 1071, 1084, 1086, 1087, 1089, 1093, 1099,\n",
       "        1105, 1112, 1113, 1115, 1120, 1122, 1143, 1146, 1151, 1159, 1160,\n",
       "        1161, 1163, 1165, 1170, 1171, 1175, 1182, 1189, 1196, 1199, 1202,\n",
       "        1205, 1208, 1221, 1222, 1230, 1233, 1238, 1247, 1251, 1255, 1261,\n",
       "        1273, 1275, 1287, 1290, 1292, 1302, 1303, 1309, 1319, 1329, 1341,\n",
       "        1344, 1345, 1352, 1366, 1369, 1378, 1380, 1384, 1388, 1389, 1391,\n",
       "        1392, 1393, 1399, 1402, 1421, 1425, 1431, 1438, 1439, 1449, 1451,\n",
       "        1459, 1460, 1471, 1476, 1482, 1484, 1485, 1489, 1495, 1553, 1576,\n",
       "        1680, 1718, 1798, 1810, 1829, 1837, 1877, 1910, 1935, 2028, 2048,\n",
       "        2079, 2186, 2209, 2213, 2229, 2236, 2340, 2399, 2403, 2486, 2533,\n",
       "        2577, 2598, 2623, 2642, 2656, 2750, 2755, 2794, 2823, 2845, 2846,\n",
       "        2848, 2849, 2857, 2869, 2904, 2912, 2923, 2932, 2990, 3041, 3134,\n",
       "        3148, 3320, 3401, 3453, 3457, 3518, 3581, 3639, 3656, 3709, 3770,\n",
       "        3792, 3795, 3879, 3989, 4004, 4021, 4041, 4097, 4161, 4185, 4241,\n",
       "        4425, 4457, 4543, 4669, 4716], dtype=int64),)"
      ]
     },
     "execution_count": 251,
     "metadata": {},
     "output_type": "execute_result"
    }
   ],
   "source": [
    "## many OUtliers in the Output Feature -> isse overfitting ho jayegi toh rent me se outliers ko delete kar do\n",
    "\n",
    "np.where(df['Rent'] > 100000)"
   ]
  },
  {
   "cell_type": "code",
   "execution_count": 252,
   "id": "6adcbec9",
   "metadata": {},
   "outputs": [],
   "source": [
    "df_final.drop([ 104,  530,  531,  533,  542,  543,  545,  556,  560,  579,  589,\n",
    "         591,  593,  595,  600,  601,  603,  606,  607,  615,  617,  623,\n",
    "         625,  627,  631,  634,  635,  639,  643,  651,  658,  666,  673,\n",
    "         680,  682,  685,  687,  699,  700,  701,  702,  706,  710,  726,\n",
    "         727,  728,  733,  735,  742,  745,  749,  754,  757,  766,  768,\n",
    "         770,  771,  773,  777,  778,  780,  788,  789,  790,  792,  795,\n",
    "         798,  799,  827,  829,  832,  835,  839,  842,  847,  848,  850,\n",
    "         851,  857,  858,  859,  867,  869,  871,  874,  876,  889,  898,\n",
    "         902,  921,  923,  927,  930,  932,  936,  951,  952,  973,  984,\n",
    "         985,  986,  988,  991,  992,  994,  995, 1001, 1004, 1005, 1010,\n",
    "        1019, 1023, 1024, 1029, 1030, 1031, 1032, 1034, 1035, 1037, 1042,\n",
    "        1045, 1052, 1055, 1065, 1071, 1084, 1086, 1087, 1089, 1093, 1099,\n",
    "        1105, 1112, 1113, 1115, 1120, 1122, 1143, 1146, 1151, 1159, 1160,\n",
    "        1161, 1163, 1165, 1170, 1171, 1175, 1182, 1189, 1196, 1199, 1202,\n",
    "        1205, 1208, 1221, 1222, 1230, 1233, 1238, 1247, 1251, 1255, 1261,\n",
    "        1273, 1275, 1287, 1290, 1292, 1302, 1303, 1309, 1319, 1329, 1341,\n",
    "        1344, 1345, 1352, 1366, 1369, 1378, 1380, 1384, 1388, 1389, 1391,\n",
    "        1392, 1393, 1399, 1402, 1421, 1425, 1431, 1438, 1439, 1449, 1451,\n",
    "        1459, 1460, 1471, 1476, 1482, 1484, 1485, 1489, 1495, 1553, 1576,\n",
    "        1680, 1718, 1798, 1810, 1829, 1837, 1877, 1910, 1935, 2028, 2048,\n",
    "        2079, 2186, 2209, 2213, 2229, 2236, 2340, 2399, 2403, 2486, 2533,\n",
    "        2577, 2598, 2623, 2642, 2656, 2750, 2755, 2794, 2823, 2845, 2846,\n",
    "        2848, 2849, 2857, 2869, 2904, 2912, 2923, 2932, 2990, 3041, 3134,\n",
    "        3148, 3320, 3401, 3453, 3457, 3518, 3581, 3639, 3656, 3709, 3770,\n",
    "        3792, 3795, 3879, 3989, 4004, 4021, 4041, 4097, 4161, 4185, 4241,\n",
    "        4425, 4457, 4543, 4669, 4716], axis=0, inplace=True)"
   ]
  },
  {
   "cell_type": "code",
   "execution_count": 253,
   "id": "f2395316",
   "metadata": {},
   "outputs": [
    {
     "data": {
      "text/plain": [
       "BHK                                  0\n",
       "Rent                                 0\n",
       "Size                                 0\n",
       "Bathroom                             0\n",
       "Area Type_Built Area                 0\n",
       "Area Type_Carpet Area                0\n",
       "Area Type_Super Area                 0\n",
       "City_Bangalore                       0\n",
       "City_Chennai                         0\n",
       "City_Delhi                           0\n",
       "City_Hyderabad                       0\n",
       "City_Kolkata                         0\n",
       "City_Mumbai                          0\n",
       "Furnishing Status_Furnished          0\n",
       "Furnishing Status_Semi-Furnished     0\n",
       "Furnishing Status_Unfurnished        0\n",
       "Tenant Preferred_Bachelors           0\n",
       "Tenant Preferred_Bachelors/Family    0\n",
       "Tenant Preferred_Family              0\n",
       "Point of Contact_Contact Agent       0\n",
       "Point of Contact_Contact Builder     0\n",
       "Point of Contact_Contact Owner       0\n",
       "dtype: int64"
      ]
     },
     "execution_count": 253,
     "metadata": {},
     "output_type": "execute_result"
    }
   ],
   "source": [
    "df_final.isnull().sum()"
   ]
  },
  {
   "cell_type": "code",
   "execution_count": 254,
   "id": "3fb7acbb",
   "metadata": {},
   "outputs": [
    {
     "data": {
      "text/plain": [
       "(4466, 22)"
      ]
     },
     "execution_count": 254,
     "metadata": {},
     "output_type": "execute_result"
    }
   ],
   "source": [
    "df_final.shape"
   ]
  },
  {
   "cell_type": "code",
   "execution_count": 255,
   "id": "ab1531fa",
   "metadata": {},
   "outputs": [],
   "source": [
    "## Model Traning Steps\n",
    "\n",
    "X = df_final.drop('Rent' , axis = 1)\n",
    "y = df_final['Rent']"
   ]
  },
  {
   "cell_type": "code",
   "execution_count": 256,
   "id": "00a6c69a",
   "metadata": {},
   "outputs": [
    {
     "data": {
      "text/html": [
       "<div>\n",
       "<style scoped>\n",
       "    .dataframe tbody tr th:only-of-type {\n",
       "        vertical-align: middle;\n",
       "    }\n",
       "\n",
       "    .dataframe tbody tr th {\n",
       "        vertical-align: top;\n",
       "    }\n",
       "\n",
       "    .dataframe thead th {\n",
       "        text-align: right;\n",
       "    }\n",
       "</style>\n",
       "<table border=\"1\" class=\"dataframe\">\n",
       "  <thead>\n",
       "    <tr style=\"text-align: right;\">\n",
       "      <th></th>\n",
       "      <th>BHK</th>\n",
       "      <th>Size</th>\n",
       "      <th>Bathroom</th>\n",
       "      <th>Area Type_Built Area</th>\n",
       "      <th>Area Type_Carpet Area</th>\n",
       "      <th>Area Type_Super Area</th>\n",
       "      <th>City_Bangalore</th>\n",
       "      <th>City_Chennai</th>\n",
       "      <th>City_Delhi</th>\n",
       "      <th>City_Hyderabad</th>\n",
       "      <th>...</th>\n",
       "      <th>City_Mumbai</th>\n",
       "      <th>Furnishing Status_Furnished</th>\n",
       "      <th>Furnishing Status_Semi-Furnished</th>\n",
       "      <th>Furnishing Status_Unfurnished</th>\n",
       "      <th>Tenant Preferred_Bachelors</th>\n",
       "      <th>Tenant Preferred_Bachelors/Family</th>\n",
       "      <th>Tenant Preferred_Family</th>\n",
       "      <th>Point of Contact_Contact Agent</th>\n",
       "      <th>Point of Contact_Contact Builder</th>\n",
       "      <th>Point of Contact_Contact Owner</th>\n",
       "    </tr>\n",
       "  </thead>\n",
       "  <tbody>\n",
       "    <tr>\n",
       "      <th>0</th>\n",
       "      <td>2</td>\n",
       "      <td>1100</td>\n",
       "      <td>2</td>\n",
       "      <td>0</td>\n",
       "      <td>0</td>\n",
       "      <td>1</td>\n",
       "      <td>0</td>\n",
       "      <td>0</td>\n",
       "      <td>0</td>\n",
       "      <td>0</td>\n",
       "      <td>...</td>\n",
       "      <td>0</td>\n",
       "      <td>0</td>\n",
       "      <td>0</td>\n",
       "      <td>1</td>\n",
       "      <td>0</td>\n",
       "      <td>1</td>\n",
       "      <td>0</td>\n",
       "      <td>0</td>\n",
       "      <td>0</td>\n",
       "      <td>1</td>\n",
       "    </tr>\n",
       "    <tr>\n",
       "      <th>1</th>\n",
       "      <td>2</td>\n",
       "      <td>800</td>\n",
       "      <td>1</td>\n",
       "      <td>0</td>\n",
       "      <td>0</td>\n",
       "      <td>1</td>\n",
       "      <td>0</td>\n",
       "      <td>0</td>\n",
       "      <td>0</td>\n",
       "      <td>0</td>\n",
       "      <td>...</td>\n",
       "      <td>0</td>\n",
       "      <td>0</td>\n",
       "      <td>1</td>\n",
       "      <td>0</td>\n",
       "      <td>0</td>\n",
       "      <td>1</td>\n",
       "      <td>0</td>\n",
       "      <td>0</td>\n",
       "      <td>0</td>\n",
       "      <td>1</td>\n",
       "    </tr>\n",
       "    <tr>\n",
       "      <th>2</th>\n",
       "      <td>2</td>\n",
       "      <td>1000</td>\n",
       "      <td>1</td>\n",
       "      <td>0</td>\n",
       "      <td>0</td>\n",
       "      <td>1</td>\n",
       "      <td>0</td>\n",
       "      <td>0</td>\n",
       "      <td>0</td>\n",
       "      <td>0</td>\n",
       "      <td>...</td>\n",
       "      <td>0</td>\n",
       "      <td>0</td>\n",
       "      <td>1</td>\n",
       "      <td>0</td>\n",
       "      <td>0</td>\n",
       "      <td>1</td>\n",
       "      <td>0</td>\n",
       "      <td>0</td>\n",
       "      <td>0</td>\n",
       "      <td>1</td>\n",
       "    </tr>\n",
       "    <tr>\n",
       "      <th>3</th>\n",
       "      <td>2</td>\n",
       "      <td>800</td>\n",
       "      <td>1</td>\n",
       "      <td>0</td>\n",
       "      <td>0</td>\n",
       "      <td>1</td>\n",
       "      <td>0</td>\n",
       "      <td>0</td>\n",
       "      <td>0</td>\n",
       "      <td>0</td>\n",
       "      <td>...</td>\n",
       "      <td>0</td>\n",
       "      <td>0</td>\n",
       "      <td>0</td>\n",
       "      <td>1</td>\n",
       "      <td>0</td>\n",
       "      <td>1</td>\n",
       "      <td>0</td>\n",
       "      <td>0</td>\n",
       "      <td>0</td>\n",
       "      <td>1</td>\n",
       "    </tr>\n",
       "    <tr>\n",
       "      <th>4</th>\n",
       "      <td>2</td>\n",
       "      <td>850</td>\n",
       "      <td>1</td>\n",
       "      <td>0</td>\n",
       "      <td>1</td>\n",
       "      <td>0</td>\n",
       "      <td>0</td>\n",
       "      <td>0</td>\n",
       "      <td>0</td>\n",
       "      <td>0</td>\n",
       "      <td>...</td>\n",
       "      <td>0</td>\n",
       "      <td>0</td>\n",
       "      <td>0</td>\n",
       "      <td>1</td>\n",
       "      <td>1</td>\n",
       "      <td>0</td>\n",
       "      <td>0</td>\n",
       "      <td>0</td>\n",
       "      <td>0</td>\n",
       "      <td>1</td>\n",
       "    </tr>\n",
       "  </tbody>\n",
       "</table>\n",
       "<p>5 rows × 21 columns</p>\n",
       "</div>"
      ],
      "text/plain": [
       "   BHK  Size  Bathroom  Area Type_Built Area  Area Type_Carpet Area  \\\n",
       "0    2  1100         2                     0                      0   \n",
       "1    2   800         1                     0                      0   \n",
       "2    2  1000         1                     0                      0   \n",
       "3    2   800         1                     0                      0   \n",
       "4    2   850         1                     0                      1   \n",
       "\n",
       "   Area Type_Super Area  City_Bangalore  City_Chennai  City_Delhi  \\\n",
       "0                     1               0             0           0   \n",
       "1                     1               0             0           0   \n",
       "2                     1               0             0           0   \n",
       "3                     1               0             0           0   \n",
       "4                     0               0             0           0   \n",
       "\n",
       "   City_Hyderabad  ...  City_Mumbai  Furnishing Status_Furnished  \\\n",
       "0               0  ...            0                            0   \n",
       "1               0  ...            0                            0   \n",
       "2               0  ...            0                            0   \n",
       "3               0  ...            0                            0   \n",
       "4               0  ...            0                            0   \n",
       "\n",
       "   Furnishing Status_Semi-Furnished  Furnishing Status_Unfurnished  \\\n",
       "0                                 0                              1   \n",
       "1                                 1                              0   \n",
       "2                                 1                              0   \n",
       "3                                 0                              1   \n",
       "4                                 0                              1   \n",
       "\n",
       "   Tenant Preferred_Bachelors  Tenant Preferred_Bachelors/Family  \\\n",
       "0                           0                                  1   \n",
       "1                           0                                  1   \n",
       "2                           0                                  1   \n",
       "3                           0                                  1   \n",
       "4                           1                                  0   \n",
       "\n",
       "   Tenant Preferred_Family  Point of Contact_Contact Agent  \\\n",
       "0                        0                               0   \n",
       "1                        0                               0   \n",
       "2                        0                               0   \n",
       "3                        0                               0   \n",
       "4                        0                               0   \n",
       "\n",
       "   Point of Contact_Contact Builder  Point of Contact_Contact Owner  \n",
       "0                                 0                               1  \n",
       "1                                 0                               1  \n",
       "2                                 0                               1  \n",
       "3                                 0                               1  \n",
       "4                                 0                               1  \n",
       "\n",
       "[5 rows x 21 columns]"
      ]
     },
     "execution_count": 256,
     "metadata": {},
     "output_type": "execute_result"
    }
   ],
   "source": [
    "X.head()"
   ]
  },
  {
   "cell_type": "code",
   "execution_count": 257,
   "id": "19d7204a",
   "metadata": {},
   "outputs": [
    {
     "data": {
      "text/plain": [
       "0       10000\n",
       "1       20000\n",
       "2       17000\n",
       "3       10000\n",
       "4        7500\n",
       "        ...  \n",
       "4741    15000\n",
       "4742    29000\n",
       "4743    35000\n",
       "4744    45000\n",
       "4745    15000\n",
       "Name: Rent, Length: 4466, dtype: int64"
      ]
     },
     "execution_count": 257,
     "metadata": {},
     "output_type": "execute_result"
    }
   ],
   "source": [
    "y"
   ]
  },
  {
   "cell_type": "code",
   "execution_count": 258,
   "id": "8f7e7ee1",
   "metadata": {},
   "outputs": [],
   "source": [
    "from sklearn.model_selection import train_test_split"
   ]
  },
  {
   "cell_type": "code",
   "execution_count": 259,
   "id": "0353a5bc",
   "metadata": {},
   "outputs": [],
   "source": [
    "# split the data\n",
    "from sklearn.model_selection import train_test_split\n",
    "x_train, x_test, y_train, y_test = train_test_split(X,y, test_size = 0.3 , random_state=25)"
   ]
  },
  {
   "cell_type": "code",
   "execution_count": 260,
   "id": "84ba7866",
   "metadata": {},
   "outputs": [
    {
     "data": {
      "text/plain": [
       "((3126, 21), (1340, 21))"
      ]
     },
     "execution_count": 260,
     "metadata": {},
     "output_type": "execute_result"
    }
   ],
   "source": [
    "x_train.shape , x_test.shape"
   ]
  },
  {
   "cell_type": "code",
   "execution_count": 261,
   "id": "45ccb5f8",
   "metadata": {},
   "outputs": [],
   "source": [
    "# from sklearn.preprocessing import StandardScaler\n",
    "# scaler=StandardScaler()\n",
    "# fit=scaler.fit(x_train)\n",
    "# X_train=fit.transform(x_train)\n",
    "# X_test=fit.transform(x_test)"
   ]
  },
  {
   "cell_type": "code",
   "execution_count": 262,
   "id": "de9308cf",
   "metadata": {},
   "outputs": [
    {
     "data": {
      "text/plain": [
       "((3126, 21), (1340, 21))"
      ]
     },
     "execution_count": 262,
     "metadata": {},
     "output_type": "execute_result"
    }
   ],
   "source": [
    "x_train.shape , x_test.shape"
   ]
  },
  {
   "cell_type": "code",
   "execution_count": 263,
   "id": "6aaab60e",
   "metadata": {},
   "outputs": [
    {
     "name": "stdout",
     "output_type": "stream",
     "text": [
      "0.9330692820304903\n",
      "0.7480574378575794\n"
     ]
    }
   ],
   "source": [
    "from sklearn.ensemble import RandomForestRegressor\n",
    "rf = RandomForestRegressor()\n",
    "rf.fit(x_train,y_train)\n",
    "print(rf.score(x_train,y_train))\n",
    "print(rf.score(x_test,y_test))"
   ]
  },
  {
   "cell_type": "markdown",
   "id": "2051a23f",
   "metadata": {},
   "source": [
    "### Saving the model "
   ]
  },
  {
   "cell_type": "code",
   "execution_count": 264,
   "id": "f2a386f6",
   "metadata": {},
   "outputs": [],
   "source": [
    "import pickle\n",
    "\n",
    "## saving the tranformation (ohe)\n",
    "\n",
    "pickle.dump(ohe_Area , open('ohe_Area.pkl' , 'wb'))\n",
    "pickle.dump(ohe_City , open('ohe_City.pkl' , 'wb'))\n",
    "pickle.dump(ohe_Furnish , open('ohe_Furnish.pkl' , 'wb'))\n",
    "pickle.dump(ohe_Tenant , open('ohe_Tenant.pkl' , 'wb'))\n",
    "pickle.dump(ohe_Point , open('ohe_Point.pkl' , 'wb'))"
   ]
  },
  {
   "cell_type": "code",
   "execution_count": 265,
   "id": "62ae1456",
   "metadata": {},
   "outputs": [],
   "source": [
    "## Saving the Model \n",
    "\n",
    "pickle.dump(rf , open('model_rf.pkl' , 'wb'))"
   ]
  },
  {
   "cell_type": "code",
   "execution_count": 266,
   "id": "de7dd7b8",
   "metadata": {},
   "outputs": [],
   "source": [
    "## Loading the Tranformation (ohe)\n",
    "df_ohe_Area = pickle.load(open('ohe_Area.pkl' , 'rb'))\n",
    "df_ohe_City = pickle.load(open('ohe_City.pkl' , 'rb'))\n",
    "df_ohe_Furnish = pickle.load(open('ohe_Furnish.pkl' , 'rb'))\n",
    "df_ohe_Tenant = pickle.load(open('ohe_Tenant.pkl' , 'rb'))\n",
    "df_ohe_Point = pickle.load(open('ohe_Point.pkl' , 'rb'))"
   ]
  },
  {
   "cell_type": "code",
   "execution_count": 267,
   "id": "b2bc77a0",
   "metadata": {},
   "outputs": [],
   "source": [
    "## Loading the Model  \n",
    "\n",
    "model = pickle.load(open('model_rf.pkl' , 'rb'))"
   ]
  },
  {
   "cell_type": "code",
   "execution_count": 268,
   "id": "63d72406",
   "metadata": {},
   "outputs": [],
   "source": [
    "## Prediction \n",
    "\n",
    "test_input = np.array([2 , 1100  , 'Super Area' , 'Kolkata' , 'Unfurnished' , 'Bachelors/Family' ,2 , 'Contact Owner'] , dtype = object).reshape(1,8)"
   ]
  },
  {
   "cell_type": "code",
   "execution_count": 269,
   "id": "82fa296d",
   "metadata": {},
   "outputs": [
    {
     "data": {
      "text/plain": [
       "array([[2, 1100, 'Super Area', 'Kolkata', 'Unfurnished',\n",
       "        'Bachelors/Family', 2, 'Contact Owner']], dtype=object)"
      ]
     },
     "execution_count": 269,
     "metadata": {},
     "output_type": "execute_result"
    }
   ],
   "source": [
    "test_input"
   ]
  },
  {
   "cell_type": "code",
   "execution_count": 270,
   "id": "9cf79af4",
   "metadata": {},
   "outputs": [],
   "source": [
    "test_input_Area = df_ohe_Area.transform(test_input[:,2].reshape(1,1))"
   ]
  },
  {
   "cell_type": "code",
   "execution_count": 271,
   "id": "6545a9e0",
   "metadata": {},
   "outputs": [
    {
     "data": {
      "text/plain": [
       "array([[0, 0, 1]])"
      ]
     },
     "execution_count": 271,
     "metadata": {},
     "output_type": "execute_result"
    }
   ],
   "source": [
    "test_input_Area"
   ]
  },
  {
   "cell_type": "code",
   "execution_count": 272,
   "id": "49f529a7",
   "metadata": {},
   "outputs": [],
   "source": [
    "test_input_City = df_ohe_City.transform(test_input[:,3].reshape(1,1))"
   ]
  },
  {
   "cell_type": "code",
   "execution_count": 273,
   "id": "2124f838",
   "metadata": {},
   "outputs": [
    {
     "data": {
      "text/plain": [
       "array([[0, 0, 0, 0, 1, 0]])"
      ]
     },
     "execution_count": 273,
     "metadata": {},
     "output_type": "execute_result"
    }
   ],
   "source": [
    "test_input_City"
   ]
  },
  {
   "cell_type": "code",
   "execution_count": 274,
   "id": "6f1a8925",
   "metadata": {},
   "outputs": [],
   "source": [
    "test_input_Furnish = df_ohe_Furnish.transform(test_input[:,4].reshape(1,1))"
   ]
  },
  {
   "cell_type": "code",
   "execution_count": 275,
   "id": "fd2de631",
   "metadata": {},
   "outputs": [
    {
     "data": {
      "text/plain": [
       "array([[0, 0, 1]])"
      ]
     },
     "execution_count": 275,
     "metadata": {},
     "output_type": "execute_result"
    }
   ],
   "source": [
    "test_input_Furnish"
   ]
  },
  {
   "cell_type": "code",
   "execution_count": 276,
   "id": "a4dc5247",
   "metadata": {},
   "outputs": [],
   "source": [
    "test_input_Tenant = df_ohe_Tenant.transform(test_input[:,5].reshape(1,1))"
   ]
  },
  {
   "cell_type": "code",
   "execution_count": 277,
   "id": "45c5674a",
   "metadata": {},
   "outputs": [
    {
     "data": {
      "text/plain": [
       "array([[0, 1, 0]])"
      ]
     },
     "execution_count": 277,
     "metadata": {},
     "output_type": "execute_result"
    }
   ],
   "source": [
    "test_input_Tenant"
   ]
  },
  {
   "cell_type": "code",
   "execution_count": 278,
   "id": "22b409aa",
   "metadata": {},
   "outputs": [],
   "source": [
    "test_input_Point = df_ohe_Point.transform(test_input[:,7].reshape(1,1))"
   ]
  },
  {
   "cell_type": "code",
   "execution_count": 279,
   "id": "33572e82",
   "metadata": {},
   "outputs": [
    {
     "data": {
      "text/plain": [
       "array([[0, 0, 1]])"
      ]
     },
     "execution_count": 279,
     "metadata": {},
     "output_type": "execute_result"
    }
   ],
   "source": [
    "test_input_Point"
   ]
  },
  {
   "cell_type": "code",
   "execution_count": 280,
   "id": "b3267063",
   "metadata": {},
   "outputs": [],
   "source": [
    "test_input_rem = test_input[:,[0,1,6]]"
   ]
  },
  {
   "cell_type": "code",
   "execution_count": 281,
   "id": "8dec3b2e",
   "metadata": {},
   "outputs": [
    {
     "data": {
      "text/plain": [
       "(1, 3)"
      ]
     },
     "execution_count": 281,
     "metadata": {},
     "output_type": "execute_result"
    }
   ],
   "source": [
    "test_input_rem.shape"
   ]
  },
  {
   "cell_type": "code",
   "execution_count": 282,
   "id": "6b95882b",
   "metadata": {},
   "outputs": [],
   "source": [
    "final_array = np.concatenate((test_input_rem ,test_input_Area  , test_input_City , test_input_Furnish , test_input_Tenant ,test_input_Point), axis = 1)"
   ]
  },
  {
   "cell_type": "code",
   "execution_count": 283,
   "id": "84f31c49",
   "metadata": {},
   "outputs": [
    {
     "data": {
      "text/plain": [
       "array([[2, 1100, 2, 0, 0, 1, 0, 0, 0, 0, 1, 0, 0, 0, 1, 0, 1, 0, 0, 0, 1]],\n",
       "      dtype=object)"
      ]
     },
     "execution_count": 283,
     "metadata": {},
     "output_type": "execute_result"
    }
   ],
   "source": [
    "final_array"
   ]
  },
  {
   "cell_type": "code",
   "execution_count": 285,
   "id": "609b2b87",
   "metadata": {},
   "outputs": [
    {
     "data": {
      "text/plain": [
       "array([11550.22438672])"
      ]
     },
     "execution_count": 285,
     "metadata": {},
     "output_type": "execute_result"
    }
   ],
   "source": [
    "## Final Prediction \n",
    "\n",
    "## Actual value is = 10000 and our predicted value is 11550.224 nearly same\n",
    "\n",
    "rf.predict(final_array)"
   ]
  },
  {
   "cell_type": "code",
   "execution_count": null,
   "id": "40df964f",
   "metadata": {},
   "outputs": [],
   "source": []
  }
 ],
 "metadata": {
  "kernelspec": {
   "display_name": "Python 3 (ipykernel)",
   "language": "python",
   "name": "python3"
  },
  "language_info": {
   "codemirror_mode": {
    "name": "ipython",
    "version": 3
   },
   "file_extension": ".py",
   "mimetype": "text/x-python",
   "name": "python",
   "nbconvert_exporter": "python",
   "pygments_lexer": "ipython3",
   "version": "3.9.13"
  }
 },
 "nbformat": 4,
 "nbformat_minor": 5
}
